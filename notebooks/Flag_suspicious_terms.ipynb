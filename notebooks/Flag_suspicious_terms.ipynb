{
 "cells": [
  {
   "cell_type": "markdown",
   "metadata": {},
   "source": [
    "# Flagging Suspicious Terms in Financial Communications\n",
    "\n",
    "This notebook demonstrates how to create a fraud dictionary and flag documents containing suspicious terms."
   ]
  },
  {
   "cell_type": "code",
   "execution_count": null,
   "metadata": {},
   "outputs": [],
   "source": [
    "# Import libraries\n",
    "import pandas as pd\n",
    "import numpy as np\n",
    "import matplotlib.pyplot as plt\n",
    "import seaborn as sns\n",
    "\n",
    "# Import custom module\n",
    "import sys\n",
    "sys.path.append('../src/')\n",
    "from fraud_detector import FraudDetector"
   ]
  },
  {
   "cell_type": "markdown",
   "metadata": {},
   "source": [
    "## 1. Create Sample Financial Communications"
   ]
  },
  {
   "cell_type": "code",
   "execution_count": null,
   "metadata": {},
   "outputs": [],
   "source": [
    "# Create sample communications\n",
    "communications = [\n",
    "    \"The quarterly results are looking positive. Revenue is up 15%.\",\n",
    "    \"Need to sell company stock immediately before the announcement.\",\n",
    "    \"Your stock options will vest next month as scheduled.\",\n",
    "    \"Please review the budget projections for Q3.\",\n",
    "    \"Confidential: Our stock will likely drop after the poor earnings report.\",\n",
    "    \"The merger with XYZ Corp is proceeding as planned.\",\n",
    "    \"We should unload these stock options before the audit results.\",\n",
    "    \"Your bonus structure has been updated in the system.\",\n",
    "    \"The stock price has been stable for the past quarter.\",\n",
    "    \"Internal memo: We need to hide these losses from the investors.\"\n",
    "]\n",
    "\n",
    "# Create DataFrame\n",
    "df = pd.DataFrame({'content': communications})\n",
    "df"
   ]
  },
  {
   "cell_type": "markdown",
   "metadata": {},
   "source": [
    "## 2. Define Fraud Dictionary"
   ]
  },
  {
   "cell_type": "code",
   "execution_count": null,
   "metadata": {},
   "outputs": [],
   "source": [
    "# Create a list of suspicious terms\n",
    "suspicious_terms = [\n",
    "    'sell stock',\n",
    "    'unload stock',\n",
    "    'hide losses',\n",
    "    'before announcement',\n",
    "    'sell immediately',\n",
    "    'confidential',\n",
    "    'stock will drop',\n",
    "    'poor earnings'\n",
    "]\n",
    "\n",
    "print(f\"Our fraud dictionary contains {len(suspicious_terms)} terms.\")\n",
    "print(\"These terms might indicate insider trading or financial fraud:\")\n",
    "for term in suspicious_terms:\n",
    "    print(f\"- {term}\")"
   ]
  },
  {
   "cell_type": "markdown",
   "metadata": {},
   "source": [
    "## 3. Flag Communications with Suspicious Terms"
   ]
  },
  {
   "cell_type": "code",
   "execution_count": null,
   "metadata": {},
   "outputs": [],
   "source": [
    "# Initialize our fraud detector\n",
    "detector = FraudDetector()\n",
    "detector.set_fraud_dictionary(suspicious_terms)\n",
    "\n",
    "# Flag suspicious content\n",
    "flagged_df = detector.flag_suspicious_content(df.copy(), 'content')\n",
    "\n",
    "# Display results\n",
    "pd.set_option('display.max_colwidth', None)\n",
    "flagged_df"
   ]
  },
  {
   "cell_type": "markdown",
   "metadata": {},
   "source": [
    "## 4. Analyze Flagged Communications"
   ]
  },
  {
   "cell_type": "code",
   "execution_count": null,
   "metadata": {},
   "outputs": [],
   "source": [
    "# Get only suspicious content\n",
    "suspicious_content = detector.get_suspicious_content(flagged_df)\n",
    "\n",
    "# Display suspicious content\n",
    "print(f\"Found {len(suspicious_content)} suspicious communications out of {len(df)} total.\")\n",
    "suspicious_content"
   ]
  },
  {
   "cell_type": "markdown",
   "metadata": {},
   "source": [
    "## 5. Visualize Results"
   ]
  },
  {
   "cell_type": "code",
   "execution_count": null,
   "metadata": {},
   "outputs": [],
   "source": [
    "# Count flagged vs non-flagged\n",
    "flag_counts = flagged_df['flag'].value_counts()\n",
    "\n",
    "# Create pie chart\n",
    "plt.figure(figsize=(8, 6))\n",
    "plt.pie(flag_counts, labels=['Normal', 'Suspicious'] if 0 in flag_counts.index else ['Suspicious', 'Normal'],\n",
    "        autopct='%1.1f%%', startangle=90, colors=['#66b3ff', '#ff9999'])\n",
    "plt.title('Distribution of Suspicious vs. Normal Communications')\n",
    "plt.axis('equal')  # Equal aspect ratio ensures that pie is drawn as a circle\n",
    "plt.show()"
   ]
  },
  {
   "cell_type": "markdown",
   "metadata": {},
   "source": [
    "## 6. Term-Specific Analysis"
   ]
  },
  {
   "cell_type": "code",
   "execution_count": null,
   "metadata": {},
   "outputs": [],
   "source": [
    "# Check which terms triggered flags\n",
    "def find_matching_terms(text, term_list):\n",
    "    matches = []\n",
    "    for term in term_list:\n",
    "        if term.lower() in text.lower():\n",
    "            matches.append(term)\n",
    "    return matches if matches else None\n",
    "\n",
    "# Apply to suspicious content\n",
    "suspicious_content['matching_terms'] = suspicious_content['content'].apply(\n",
    "    lambda x: find_matching_terms(x, suspicious_terms)\n",
    ")\n",
    "\n",
    "# Display results\n",
    "suspicious_content[['content', 'matching_terms']]"
   ]
  },
  {
   "cell_type": "markdown",
   "metadata": {},
   "source": [
    "## 7. Summary"
   ]
  },
  {
   "cell_type": "code",
   "execution_count": null,
   "metadata": {},
   "outputs": [],
   "source": [
    "print(\"Summary of Fraud Detection Results:\")\n",
    "print(f\"- Total communications analyzed: {len(df)}\")\n",
    "print(f\"- Suspicious communications detected: {len(suspicious_content)}\")\n",
    "print(f\"- Detection rate: {len(suspicious_content)/len(df)*100:.1f}%\")\n",
    "print(\"\\nNext steps would include:\")\n",
    "print(\"1. Refining the fraud dictionary with more specific terms\")\n",
    "print(\"2. Applying topic modeling to find hidden patterns\")\n",
    "print(\"3. Investigating the flagged communications in detail\")"
   ]
  }
 ],
 "metadata": {
  "kernelspec": {
   "display_name": "Python 3",
   "language": "python",
   "name": "python3"
  },
  "language_info": {
   "codemirror_mode": {
    "name": "ipython",
    "version": 3
   },
   "file_extension": ".py",
   "mimetype": "text/x-python",
   "name": "python",
   "nbconvert_exporter": "python",
   "pygments_lexer": "ipython3",
   "version": "3.8.8"
  }
 },
 "nbformat": 4,
 "nbformat_minor": 4
}

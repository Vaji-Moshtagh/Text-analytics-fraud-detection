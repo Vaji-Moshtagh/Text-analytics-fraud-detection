{
 "cells": [
  {
   "cell_type": "markdown",
   "metadata": {},
   "source": [
    "# Text Preprocessing for Fraud Detection\n",
    "\n",
    "This notebook demonstrates text cleaning techniques for NLP tasks in fraud detection."
   ]
  },
  {
   "cell_type": "code",
   "execution_count": null,
   "metadata": {},
   "outputs": [],
   "source": [
    "# Import necessary libraries\n",
    "import pandas as pd\n",
    "import numpy as np\n",
    "import re\n",
    "import string\n",
    "import nltk\n",
    "from nltk.corpus import stopwords\n",
    "from nltk.stem.wordnet import WordNetLemmatizer\n",
    "\n",
    "# Download NLTK resources\n",
    "nltk.download('stopwords')\n",
    "nltk.download('wordnet')"
   ]
  },
  {
   "cell_type": "markdown",
   "metadata": {},
   "source": [
    "## 1. Create Sample Financial Email Data"
   ]
  },
  {
   "cell_type": "code",
   "execution_count": null,
   "metadata": {},
   "outputs": [],
   "source": [
    "# Create sample financial email data\n",
    "emails = [\n",
    "    \"Meeting scheduled regarding Q3 financial results. Please bring all documentation.\",\n",
    "    \"The stock options will vest next month. Remember to check your account.\",\n",
    "    \"We need to sell company stock before the quarterly report is released.\",\n",
    "    \"Please review the attached financial projections for the board meeting.\",\n",
    "    \"Confidential: Company XYZ stock will drop after the announcement tomorrow.\"\n",
    "]\n",
    "\n",
    "# Create a dataframe\n",
    "df = pd.DataFrame({'content': emails})\n",
    "df"
   ]
  },
  {
   "cell_type": "markdown",
   "metadata": {},
   "source": [
    "## 2. Define Stopwords and Punctuation"
   ]
  },
  {
   "cell_type": "code",
   "execution_count": null,
   "metadata": {},
   "outputs": [],
   "source": [
    "# Get English stopwords\n",
    "stop = set(stopwords.words('english'))\n",
    "\n",
    "# Add custom financial stopwords\n",
    "custom_stopwords = ['please', 'regarding', 'attached', 'meeting', 'scheduled']\n",
    "stop.update(custom_stopwords)\n",
    "\n",
    "# Get punctuation\n",
    "exclude = set(string.punctuation)\n",
    "\n",
    "# Initialize lemmatizer\n",
    "lemma = WordNetLemmatizer()"
   ]
  },
  {
   "cell_type": "markdown",
   "metadata": {},
   "source": [
    "## 3. Create Text Cleaning Function"
   ]
  },
  {
   "cell_type": "code",
   "execution_count": null,
   "metadata": {},
   "outputs": [],
   "source": [
    "def clean_text(text, stop_words, exclude_chars, lemmatizer):\n",
    "    \"\"\"Clean text by removing stopwords, punctuation, and lemmatizing.\"\"\"\n",
    "    # Strip whitespace\n",
    "    text = text.strip()\n",
    "    \n",
    "    # Convert to lowercase and split\n",
    "    words = text.lower().split()\n",
    "    \n",
    "    # Remove stopwords and digits\n",
    "    stop_free = [word for word in words if (word not in stop_words) and (not word.isdigit())]\n",
    "    \n",
    "    # Remove punctuation\n",
    "    punc_free = [word for word in stop_free if word not in exclude_chars]\n",
    "    \n",
    "    # Lemmatize words\n",
    "    normalized = [lemmatizer.lemmatize(word) for word in punc_free]\n",
    "    \n",
    "    # Join words back together\n",
    "    return \" \".join(normalized)"
   ]
  },
  {
   "cell_type": "markdown",
   "metadata": {},
   "source": [
    "## 4. Apply Cleaning to Sample Data"
   ]
  },
  {
   "cell_type": "code",
   "execution_count": null,
   "metadata": {},
   "outputs": [],
   "source": [
    "# Apply cleaning function to each email\n",
    "df['clean_content'] = df['content'].apply(lambda x: clean_text(x, stop, exclude, lemma))\n",
    "\n",
    "# Display results\n",
    "pd.set_option('display.max_colwidth', None)\n",
    "df[['content', 'clean_content']]"
   ]
  },
  {
   "cell_type": "markdown",
   "metadata": {},
   "source": [
    "## 5. Analyzing Cleaning Results"
   ]
  },
  {
   "cell_type": "code",
   "execution_count": null,
   "metadata": {},
   "outputs": [],
   "source": [
    "# Count words before and after cleaning\n",
    "df['original_word_count'] = df['content'].apply(lambda x: len(x.split()))\n",
    "df['cleaned_word_count'] = df['clean_content'].apply(lambda x: len(x.split()))\n",
    "\n",
    "# Calculate percentage of words removed\n",
    "df['pct_removed'] = (df['original_word_count'] - df['cleaned_word_count']) / df['original_word_count'] * 100\n",
    "\n",
    "df[['original_word_count', 'cleaned_word_count', 'pct_removed']]"
   ]
  },
  {
   "cell_type": "markdown",
   "metadata": {},
   "source": [
    "## 6. Tokenizing Cleaned Text"
   ]
  },
  {
   "cell_type": "code",
   "execution_count": null,
   "metadata": {},
   "outputs": [],
   "source": [
    "# Tokenize cleaned text\n",
    "df['tokens'] = df['clean_content'].apply(lambda x: x.split())\n",
    "\n",
    "# Display tokens\n",
    "df[['clean_content', 'tokens']]"
   ]
  },
  {
   "cell_type": "markdown",
   "metadata": {},
   "source": [
    "## 7. Save Processed Data for Next Steps"
   ]
  },
  {
   "cell_type": "code",
   "execution_count": null,
   "metadata": {},
   "outputs": [],
   "source": [
    "# Let's see what we've created\n",
    "print(f\"We've cleaned {len(df)} emails and reduced the word count by {df['pct_removed'].mean():.1f}% on average.\")\n",
    "print(\"The cleaned text is now ready for further analysis.\")"
   ]
  }
 ],
 "metadata": {
  "kernelspec": {
   "display_name": "Python 3",
   "language": "python",
   "name": "python3"
  },
  "language_info": {
   "codemirror_mode": {
    "name": "ipython",
    "version": 3
   },
   "file_extension": ".py",
   "mimetype": "text/x-python",
   "name": "python",
   "nbconvert_exporter": "python",
   "pygments_lexer": "ipython3",
   "version": "3.8.8"
  }
 },
 "nbformat": 4,
 "nbformat_minor": 4
}
